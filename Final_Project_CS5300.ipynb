{
  "nbformat": 4,
  "nbformat_minor": 0,
  "metadata": {
    "colab": {
      "provenance": []
    },
    "kernelspec": {
      "name": "python3",
      "display_name": "Python 3"
    },
    "language_info": {
      "name": "python"
    }
  },
  "cells": [
    {
      "cell_type": "code",
      "execution_count": 107,
      "metadata": {
        "id": "00J1l2UpLGQ3"
      },
      "outputs": [],
      "source": [
        "import numpy as np\n",
        "import pandas as pd\n",
        "import matplotlib.pyplot as plt\n",
        "import random\n",
        "\n",
        "from tensorflow.keras.models import Sequential\n",
        "from tensorflow.keras.layers import Dense\n",
        "#from sklearn.metrics import accuracy_score"
      ]
    },
    {
      "cell_type": "code",
      "source": [
        "dataset = np.loadtxt('diabetes_binary_5050split_health_indicators_BRFSS2015.csv', delimiter=\",\", skiprows=1)\n",
        "np.random.shuffle(dataset)\n",
        "dataset"
      ],
      "metadata": {
        "colab": {
          "base_uri": "https://localhost:8080/"
        },
        "id": "5QusgFPaMiu_",
        "outputId": "d7734806-5773-4dc3-e62e-f72fd23dd78b"
      },
      "execution_count": 106,
      "outputs": [
        {
          "output_type": "execute_result",
          "data": {
            "text/plain": [
              "array([[ 0.,  1.,  1., ...,  7.,  3.,  4.],\n",
              "       [ 0.,  1.,  1., ..., 13.,  5.,  5.],\n",
              "       [ 1.,  1.,  1., ..., 10.,  6.,  6.],\n",
              "       ...,\n",
              "       [ 1.,  1.,  0., ...,  7.,  5.,  1.],\n",
              "       [ 0.,  1.,  1., ...,  6.,  4.,  8.],\n",
              "       [ 1.,  0.,  0., ...,  6.,  4.,  7.]])"
            ]
          },
          "metadata": {},
          "execution_count": 106
        }
      ]
    },
    {
      "cell_type": "code",
      "source": [
        "df = pd.read_csv(\"diabetes_binary_5050split_health_indicators_BRFSS2015.csv\", sep=\",\")\n",
        "df"
      ],
      "metadata": {
        "colab": {
          "base_uri": "https://localhost:8080/",
          "height": 423
        },
        "id": "33vXWjBONIDx",
        "outputId": "d07f365b-5610-490a-cf0c-e8fd5c5c2ebe"
      },
      "execution_count": 108,
      "outputs": [
        {
          "output_type": "execute_result",
          "data": {
            "text/plain": [
              "       Diabetes_binary  HighBP  HighChol  CholCheck   BMI  Smoker  Stroke  \\\n",
              "0                  0.0     1.0       0.0        1.0  26.0     0.0     0.0   \n",
              "1                  0.0     1.0       1.0        1.0  26.0     1.0     1.0   \n",
              "2                  0.0     0.0       0.0        1.0  26.0     0.0     0.0   \n",
              "3                  0.0     1.0       1.0        1.0  28.0     1.0     0.0   \n",
              "4                  0.0     0.0       0.0        1.0  29.0     1.0     0.0   \n",
              "...                ...     ...       ...        ...   ...     ...     ...   \n",
              "70687              1.0     0.0       1.0        1.0  37.0     0.0     0.0   \n",
              "70688              1.0     0.0       1.0        1.0  29.0     1.0     0.0   \n",
              "70689              1.0     1.0       1.0        1.0  25.0     0.0     0.0   \n",
              "70690              1.0     1.0       1.0        1.0  18.0     0.0     0.0   \n",
              "70691              1.0     1.0       1.0        1.0  25.0     0.0     0.0   \n",
              "\n",
              "       HeartDiseaseorAttack  PhysActivity  Fruits  ...  AnyHealthcare  \\\n",
              "0                       0.0           1.0     0.0  ...            1.0   \n",
              "1                       0.0           0.0     1.0  ...            1.0   \n",
              "2                       0.0           1.0     1.0  ...            1.0   \n",
              "3                       0.0           1.0     1.0  ...            1.0   \n",
              "4                       0.0           1.0     1.0  ...            1.0   \n",
              "...                     ...           ...     ...  ...            ...   \n",
              "70687                   0.0           0.0     0.0  ...            1.0   \n",
              "70688                   1.0           0.0     1.0  ...            1.0   \n",
              "70689                   1.0           0.0     1.0  ...            1.0   \n",
              "70690                   0.0           0.0     0.0  ...            1.0   \n",
              "70691                   1.0           1.0     1.0  ...            1.0   \n",
              "\n",
              "       NoDocbcCost  GenHlth  MentHlth  PhysHlth  DiffWalk  Sex   Age  \\\n",
              "0              0.0      3.0       5.0      30.0       0.0  1.0   4.0   \n",
              "1              0.0      3.0       0.0       0.0       0.0  1.0  12.0   \n",
              "2              0.0      1.0       0.0      10.0       0.0  1.0  13.0   \n",
              "3              0.0      3.0       0.0       3.0       0.0  1.0  11.0   \n",
              "4              0.0      2.0       0.0       0.0       0.0  0.0   8.0   \n",
              "...            ...      ...       ...       ...       ...  ...   ...   \n",
              "70687          0.0      4.0       0.0       0.0       0.0  0.0   6.0   \n",
              "70688          0.0      2.0       0.0       0.0       1.0  1.0  10.0   \n",
              "70689          0.0      5.0      15.0       0.0       1.0  0.0  13.0   \n",
              "70690          0.0      4.0       0.0       0.0       1.0  0.0  11.0   \n",
              "70691          0.0      2.0       0.0       0.0       0.0  0.0   9.0   \n",
              "\n",
              "       Education  Income  \n",
              "0            6.0     8.0  \n",
              "1            6.0     8.0  \n",
              "2            6.0     8.0  \n",
              "3            6.0     8.0  \n",
              "4            5.0     8.0  \n",
              "...          ...     ...  \n",
              "70687        4.0     1.0  \n",
              "70688        3.0     6.0  \n",
              "70689        6.0     4.0  \n",
              "70690        2.0     4.0  \n",
              "70691        6.0     2.0  \n",
              "\n",
              "[70692 rows x 22 columns]"
            ],
            "text/html": [
              "\n",
              "  <div id=\"df-2a23f6b3-3907-41c4-af97-80ddf5c65491\">\n",
              "    <div class=\"colab-df-container\">\n",
              "      <div>\n",
              "<style scoped>\n",
              "    .dataframe tbody tr th:only-of-type {\n",
              "        vertical-align: middle;\n",
              "    }\n",
              "\n",
              "    .dataframe tbody tr th {\n",
              "        vertical-align: top;\n",
              "    }\n",
              "\n",
              "    .dataframe thead th {\n",
              "        text-align: right;\n",
              "    }\n",
              "</style>\n",
              "<table border=\"1\" class=\"dataframe\">\n",
              "  <thead>\n",
              "    <tr style=\"text-align: right;\">\n",
              "      <th></th>\n",
              "      <th>Diabetes_binary</th>\n",
              "      <th>HighBP</th>\n",
              "      <th>HighChol</th>\n",
              "      <th>CholCheck</th>\n",
              "      <th>BMI</th>\n",
              "      <th>Smoker</th>\n",
              "      <th>Stroke</th>\n",
              "      <th>HeartDiseaseorAttack</th>\n",
              "      <th>PhysActivity</th>\n",
              "      <th>Fruits</th>\n",
              "      <th>...</th>\n",
              "      <th>AnyHealthcare</th>\n",
              "      <th>NoDocbcCost</th>\n",
              "      <th>GenHlth</th>\n",
              "      <th>MentHlth</th>\n",
              "      <th>PhysHlth</th>\n",
              "      <th>DiffWalk</th>\n",
              "      <th>Sex</th>\n",
              "      <th>Age</th>\n",
              "      <th>Education</th>\n",
              "      <th>Income</th>\n",
              "    </tr>\n",
              "  </thead>\n",
              "  <tbody>\n",
              "    <tr>\n",
              "      <th>0</th>\n",
              "      <td>0.0</td>\n",
              "      <td>1.0</td>\n",
              "      <td>0.0</td>\n",
              "      <td>1.0</td>\n",
              "      <td>26.0</td>\n",
              "      <td>0.0</td>\n",
              "      <td>0.0</td>\n",
              "      <td>0.0</td>\n",
              "      <td>1.0</td>\n",
              "      <td>0.0</td>\n",
              "      <td>...</td>\n",
              "      <td>1.0</td>\n",
              "      <td>0.0</td>\n",
              "      <td>3.0</td>\n",
              "      <td>5.0</td>\n",
              "      <td>30.0</td>\n",
              "      <td>0.0</td>\n",
              "      <td>1.0</td>\n",
              "      <td>4.0</td>\n",
              "      <td>6.0</td>\n",
              "      <td>8.0</td>\n",
              "    </tr>\n",
              "    <tr>\n",
              "      <th>1</th>\n",
              "      <td>0.0</td>\n",
              "      <td>1.0</td>\n",
              "      <td>1.0</td>\n",
              "      <td>1.0</td>\n",
              "      <td>26.0</td>\n",
              "      <td>1.0</td>\n",
              "      <td>1.0</td>\n",
              "      <td>0.0</td>\n",
              "      <td>0.0</td>\n",
              "      <td>1.0</td>\n",
              "      <td>...</td>\n",
              "      <td>1.0</td>\n",
              "      <td>0.0</td>\n",
              "      <td>3.0</td>\n",
              "      <td>0.0</td>\n",
              "      <td>0.0</td>\n",
              "      <td>0.0</td>\n",
              "      <td>1.0</td>\n",
              "      <td>12.0</td>\n",
              "      <td>6.0</td>\n",
              "      <td>8.0</td>\n",
              "    </tr>\n",
              "    <tr>\n",
              "      <th>2</th>\n",
              "      <td>0.0</td>\n",
              "      <td>0.0</td>\n",
              "      <td>0.0</td>\n",
              "      <td>1.0</td>\n",
              "      <td>26.0</td>\n",
              "      <td>0.0</td>\n",
              "      <td>0.0</td>\n",
              "      <td>0.0</td>\n",
              "      <td>1.0</td>\n",
              "      <td>1.0</td>\n",
              "      <td>...</td>\n",
              "      <td>1.0</td>\n",
              "      <td>0.0</td>\n",
              "      <td>1.0</td>\n",
              "      <td>0.0</td>\n",
              "      <td>10.0</td>\n",
              "      <td>0.0</td>\n",
              "      <td>1.0</td>\n",
              "      <td>13.0</td>\n",
              "      <td>6.0</td>\n",
              "      <td>8.0</td>\n",
              "    </tr>\n",
              "    <tr>\n",
              "      <th>3</th>\n",
              "      <td>0.0</td>\n",
              "      <td>1.0</td>\n",
              "      <td>1.0</td>\n",
              "      <td>1.0</td>\n",
              "      <td>28.0</td>\n",
              "      <td>1.0</td>\n",
              "      <td>0.0</td>\n",
              "      <td>0.0</td>\n",
              "      <td>1.0</td>\n",
              "      <td>1.0</td>\n",
              "      <td>...</td>\n",
              "      <td>1.0</td>\n",
              "      <td>0.0</td>\n",
              "      <td>3.0</td>\n",
              "      <td>0.0</td>\n",
              "      <td>3.0</td>\n",
              "      <td>0.0</td>\n",
              "      <td>1.0</td>\n",
              "      <td>11.0</td>\n",
              "      <td>6.0</td>\n",
              "      <td>8.0</td>\n",
              "    </tr>\n",
              "    <tr>\n",
              "      <th>4</th>\n",
              "      <td>0.0</td>\n",
              "      <td>0.0</td>\n",
              "      <td>0.0</td>\n",
              "      <td>1.0</td>\n",
              "      <td>29.0</td>\n",
              "      <td>1.0</td>\n",
              "      <td>0.0</td>\n",
              "      <td>0.0</td>\n",
              "      <td>1.0</td>\n",
              "      <td>1.0</td>\n",
              "      <td>...</td>\n",
              "      <td>1.0</td>\n",
              "      <td>0.0</td>\n",
              "      <td>2.0</td>\n",
              "      <td>0.0</td>\n",
              "      <td>0.0</td>\n",
              "      <td>0.0</td>\n",
              "      <td>0.0</td>\n",
              "      <td>8.0</td>\n",
              "      <td>5.0</td>\n",
              "      <td>8.0</td>\n",
              "    </tr>\n",
              "    <tr>\n",
              "      <th>...</th>\n",
              "      <td>...</td>\n",
              "      <td>...</td>\n",
              "      <td>...</td>\n",
              "      <td>...</td>\n",
              "      <td>...</td>\n",
              "      <td>...</td>\n",
              "      <td>...</td>\n",
              "      <td>...</td>\n",
              "      <td>...</td>\n",
              "      <td>...</td>\n",
              "      <td>...</td>\n",
              "      <td>...</td>\n",
              "      <td>...</td>\n",
              "      <td>...</td>\n",
              "      <td>...</td>\n",
              "      <td>...</td>\n",
              "      <td>...</td>\n",
              "      <td>...</td>\n",
              "      <td>...</td>\n",
              "      <td>...</td>\n",
              "      <td>...</td>\n",
              "    </tr>\n",
              "    <tr>\n",
              "      <th>70687</th>\n",
              "      <td>1.0</td>\n",
              "      <td>0.0</td>\n",
              "      <td>1.0</td>\n",
              "      <td>1.0</td>\n",
              "      <td>37.0</td>\n",
              "      <td>0.0</td>\n",
              "      <td>0.0</td>\n",
              "      <td>0.0</td>\n",
              "      <td>0.0</td>\n",
              "      <td>0.0</td>\n",
              "      <td>...</td>\n",
              "      <td>1.0</td>\n",
              "      <td>0.0</td>\n",
              "      <td>4.0</td>\n",
              "      <td>0.0</td>\n",
              "      <td>0.0</td>\n",
              "      <td>0.0</td>\n",
              "      <td>0.0</td>\n",
              "      <td>6.0</td>\n",
              "      <td>4.0</td>\n",
              "      <td>1.0</td>\n",
              "    </tr>\n",
              "    <tr>\n",
              "      <th>70688</th>\n",
              "      <td>1.0</td>\n",
              "      <td>0.0</td>\n",
              "      <td>1.0</td>\n",
              "      <td>1.0</td>\n",
              "      <td>29.0</td>\n",
              "      <td>1.0</td>\n",
              "      <td>0.0</td>\n",
              "      <td>1.0</td>\n",
              "      <td>0.0</td>\n",
              "      <td>1.0</td>\n",
              "      <td>...</td>\n",
              "      <td>1.0</td>\n",
              "      <td>0.0</td>\n",
              "      <td>2.0</td>\n",
              "      <td>0.0</td>\n",
              "      <td>0.0</td>\n",
              "      <td>1.0</td>\n",
              "      <td>1.0</td>\n",
              "      <td>10.0</td>\n",
              "      <td>3.0</td>\n",
              "      <td>6.0</td>\n",
              "    </tr>\n",
              "    <tr>\n",
              "      <th>70689</th>\n",
              "      <td>1.0</td>\n",
              "      <td>1.0</td>\n",
              "      <td>1.0</td>\n",
              "      <td>1.0</td>\n",
              "      <td>25.0</td>\n",
              "      <td>0.0</td>\n",
              "      <td>0.0</td>\n",
              "      <td>1.0</td>\n",
              "      <td>0.0</td>\n",
              "      <td>1.0</td>\n",
              "      <td>...</td>\n",
              "      <td>1.0</td>\n",
              "      <td>0.0</td>\n",
              "      <td>5.0</td>\n",
              "      <td>15.0</td>\n",
              "      <td>0.0</td>\n",
              "      <td>1.0</td>\n",
              "      <td>0.0</td>\n",
              "      <td>13.0</td>\n",
              "      <td>6.0</td>\n",
              "      <td>4.0</td>\n",
              "    </tr>\n",
              "    <tr>\n",
              "      <th>70690</th>\n",
              "      <td>1.0</td>\n",
              "      <td>1.0</td>\n",
              "      <td>1.0</td>\n",
              "      <td>1.0</td>\n",
              "      <td>18.0</td>\n",
              "      <td>0.0</td>\n",
              "      <td>0.0</td>\n",
              "      <td>0.0</td>\n",
              "      <td>0.0</td>\n",
              "      <td>0.0</td>\n",
              "      <td>...</td>\n",
              "      <td>1.0</td>\n",
              "      <td>0.0</td>\n",
              "      <td>4.0</td>\n",
              "      <td>0.0</td>\n",
              "      <td>0.0</td>\n",
              "      <td>1.0</td>\n",
              "      <td>0.0</td>\n",
              "      <td>11.0</td>\n",
              "      <td>2.0</td>\n",
              "      <td>4.0</td>\n",
              "    </tr>\n",
              "    <tr>\n",
              "      <th>70691</th>\n",
              "      <td>1.0</td>\n",
              "      <td>1.0</td>\n",
              "      <td>1.0</td>\n",
              "      <td>1.0</td>\n",
              "      <td>25.0</td>\n",
              "      <td>0.0</td>\n",
              "      <td>0.0</td>\n",
              "      <td>1.0</td>\n",
              "      <td>1.0</td>\n",
              "      <td>1.0</td>\n",
              "      <td>...</td>\n",
              "      <td>1.0</td>\n",
              "      <td>0.0</td>\n",
              "      <td>2.0</td>\n",
              "      <td>0.0</td>\n",
              "      <td>0.0</td>\n",
              "      <td>0.0</td>\n",
              "      <td>0.0</td>\n",
              "      <td>9.0</td>\n",
              "      <td>6.0</td>\n",
              "      <td>2.0</td>\n",
              "    </tr>\n",
              "  </tbody>\n",
              "</table>\n",
              "<p>70692 rows × 22 columns</p>\n",
              "</div>\n",
              "      <button class=\"colab-df-convert\" onclick=\"convertToInteractive('df-2a23f6b3-3907-41c4-af97-80ddf5c65491')\"\n",
              "              title=\"Convert this dataframe to an interactive table.\"\n",
              "              style=\"display:none;\">\n",
              "        \n",
              "  <svg xmlns=\"http://www.w3.org/2000/svg\" height=\"24px\"viewBox=\"0 0 24 24\"\n",
              "       width=\"24px\">\n",
              "    <path d=\"M0 0h24v24H0V0z\" fill=\"none\"/>\n",
              "    <path d=\"M18.56 5.44l.94 2.06.94-2.06 2.06-.94-2.06-.94-.94-2.06-.94 2.06-2.06.94zm-11 1L8.5 8.5l.94-2.06 2.06-.94-2.06-.94L8.5 2.5l-.94 2.06-2.06.94zm10 10l.94 2.06.94-2.06 2.06-.94-2.06-.94-.94-2.06-.94 2.06-2.06.94z\"/><path d=\"M17.41 7.96l-1.37-1.37c-.4-.4-.92-.59-1.43-.59-.52 0-1.04.2-1.43.59L10.3 9.45l-7.72 7.72c-.78.78-.78 2.05 0 2.83L4 21.41c.39.39.9.59 1.41.59.51 0 1.02-.2 1.41-.59l7.78-7.78 2.81-2.81c.8-.78.8-2.07 0-2.86zM5.41 20L4 18.59l7.72-7.72 1.47 1.35L5.41 20z\"/>\n",
              "  </svg>\n",
              "      </button>\n",
              "      \n",
              "  <style>\n",
              "    .colab-df-container {\n",
              "      display:flex;\n",
              "      flex-wrap:wrap;\n",
              "      gap: 12px;\n",
              "    }\n",
              "\n",
              "    .colab-df-convert {\n",
              "      background-color: #E8F0FE;\n",
              "      border: none;\n",
              "      border-radius: 50%;\n",
              "      cursor: pointer;\n",
              "      display: none;\n",
              "      fill: #1967D2;\n",
              "      height: 32px;\n",
              "      padding: 0 0 0 0;\n",
              "      width: 32px;\n",
              "    }\n",
              "\n",
              "    .colab-df-convert:hover {\n",
              "      background-color: #E2EBFA;\n",
              "      box-shadow: 0px 1px 2px rgba(60, 64, 67, 0.3), 0px 1px 3px 1px rgba(60, 64, 67, 0.15);\n",
              "      fill: #174EA6;\n",
              "    }\n",
              "\n",
              "    [theme=dark] .colab-df-convert {\n",
              "      background-color: #3B4455;\n",
              "      fill: #D2E3FC;\n",
              "    }\n",
              "\n",
              "    [theme=dark] .colab-df-convert:hover {\n",
              "      background-color: #434B5C;\n",
              "      box-shadow: 0px 1px 3px 1px rgba(0, 0, 0, 0.15);\n",
              "      filter: drop-shadow(0px 1px 2px rgba(0, 0, 0, 0.3));\n",
              "      fill: #FFFFFF;\n",
              "    }\n",
              "  </style>\n",
              "\n",
              "      <script>\n",
              "        const buttonEl =\n",
              "          document.querySelector('#df-2a23f6b3-3907-41c4-af97-80ddf5c65491 button.colab-df-convert');\n",
              "        buttonEl.style.display =\n",
              "          google.colab.kernel.accessAllowed ? 'block' : 'none';\n",
              "\n",
              "        async function convertToInteractive(key) {\n",
              "          const element = document.querySelector('#df-2a23f6b3-3907-41c4-af97-80ddf5c65491');\n",
              "          const dataTable =\n",
              "            await google.colab.kernel.invokeFunction('convertToInteractive',\n",
              "                                                     [key], {});\n",
              "          if (!dataTable) return;\n",
              "\n",
              "          const docLinkHtml = 'Like what you see? Visit the ' +\n",
              "            '<a target=\"_blank\" href=https://colab.research.google.com/notebooks/data_table.ipynb>data table notebook</a>'\n",
              "            + ' to learn more about interactive tables.';\n",
              "          element.innerHTML = '';\n",
              "          dataTable['output_type'] = 'display_data';\n",
              "          await google.colab.output.renderOutput(dataTable, element);\n",
              "          const docLink = document.createElement('div');\n",
              "          docLink.innerHTML = docLinkHtml;\n",
              "          element.appendChild(docLink);\n",
              "        }\n",
              "      </script>\n",
              "    </div>\n",
              "  </div>\n",
              "  "
            ]
          },
          "metadata": {},
          "execution_count": 108
        }
      ]
    },
    {
      "cell_type": "code",
      "source": [
        "print(sum(Y_Overfit)/70692)\n",
        "\n",
        "plt.hist(df['Diabetes_binary'])\n",
        "plt.show()"
      ],
      "metadata": {
        "colab": {
          "base_uri": "https://localhost:8080/",
          "height": 447
        },
        "id": "-LESO4dcFiPj",
        "outputId": "d6e26cbe-d092-4813-c4e0-85bd2395e14a"
      },
      "execution_count": 109,
      "outputs": [
        {
          "output_type": "stream",
          "name": "stdout",
          "text": [
            "0.5\n"
          ]
        },
        {
          "output_type": "display_data",
          "data": {
            "text/plain": [
              "<Figure size 640x480 with 1 Axes>"
            ],
            "image/png": "[encoded data removed]"
          },
          "metadata": {}
        }
      ]
    },
    {
      "cell_type": "code",
      "source": [
        "header = list(df.columns)\n",
        "\n",
        "fig = plt.figure()\n",
        "fig.subplots_adjust(hspace=0.5, wspace=0.06)\n",
        "\n",
        "for i in range(21):\n",
        "  plt.subplot(7, 3, i+1)\n",
        "  plt.hist(df[header[i+1]])\n",
        "  plt.title(header[i+1], fontsize=6, pad=1.1) \n",
        "  ax = plt.gca()\n",
        "  ax.axes.xaxis.set_ticklabels([])\n",
        "  ax.axes.yaxis.set_ticklabels([])"
      ],
      "metadata": {
        "colab": {
          "base_uri": "https://localhost:8080/",
          "height": 420
        },
        "id": "tGdZra528EPL",
        "outputId": "9b82dc5e-8ff5-485a-e34a-813eab586835"
      },
      "execution_count": 110,
      "outputs": [
        {
          "output_type": "display_data",
          "data": {
            "text/plain": [
              "<Figure size 640x480 with 21 Axes>"
            ],
            "image/png": "[encoded data removed]"
          },
          "metadata": {}
        }
      ]
    },
    {
      "cell_type": "code",
      "source": [
        "twenty_percent = int(len(dataset[:, 0]) * 0.2)\n",
        "\n",
        "X_Overfit = dataset[:, 1:]\n",
        "Y_Overfit = dataset[:, 0]"
      ],
      "metadata": {
        "id": "eHYlTOVCUG8I"
      },
      "execution_count": 121,
      "outputs": []
    },
    {
      "cell_type": "code",
      "source": [
        "normalized_col = [3, 13, 14, 15, 18, 19, 20]\n",
        "\n",
        "for i in range(21):\n",
        "  X_Overfit[:, i] = X_Overfit[:, i] / X_Overfit[:, i].max()\n",
        "  #print(X_Overfit[:, i])\n",
        "  #print()"
      ],
      "metadata": {
        "id": "vhGtyzjn00Xb"
      },
      "execution_count": 122,
      "outputs": []
    },
    {
      "cell_type": "markdown",
      "source": [
        "# **Initial Overfit Trial**"
      ],
      "metadata": {
        "id": "dexyXuggmqPN"
      }
    },
    {
      "cell_type": "code",
      "source": [
        "model = Sequential()\n",
        "model.add(Dense(1, input_dim = len(X_Overfit[0, :]), activation='sigmoid'))\n",
        "model.compile(loss='binary_crossentropy', optimizer='rmsprop', metrics=['accuracy'])"
      ],
      "metadata": {
        "id": "NHxx6_ZPnNs5"
      },
      "execution_count": 123,
      "outputs": []
    },
    {
      "cell_type": "code",
      "source": [
        "model.fit(x = X_Overfit, y = Y_Overfit, epochs=16, verbose = 1)\n",
        "#batch_size= 129 "
      ],
      "metadata": {
        "colab": {
          "base_uri": "https://localhost:8080/"
        },
        "id": "-XJDySO-MqQU",
        "outputId": "a75748b2-621c-4208-b1c3-c23de6245863"
      },
      "execution_count": 125,
      "outputs": [
        {
          "output_type": "stream",
          "name": "stdout",
          "text": [
            "Epoch 1/16\n",
            "2210/2210 [==============================] - 4s 2ms/step - loss: 0.5350 - accuracy: 0.7344\n",
            "Epoch 2/16\n",
            "2210/2210 [==============================] - 3s 1ms/step - loss: 0.5334 - accuracy: 0.7354\n",
            "Epoch 3/16\n",
            "2210/2210 [==============================] - 4s 2ms/step - loss: 0.5320 - accuracy: 0.7359\n",
            "Epoch 4/16\n",
            "2210/2210 [==============================] - 3s 1ms/step - loss: 0.5308 - accuracy: 0.7369\n",
            "Epoch 5/16\n",
            "2210/2210 [==============================] - 3s 1ms/step - loss: 0.5296 - accuracy: 0.7379\n",
            "Epoch 6/16\n",
            "2210/2210 [==============================] - 3s 1ms/step - loss: 0.5286 - accuracy: 0.7381\n",
            "Epoch 7/16\n",
            "2210/2210 [==============================] - 4s 2ms/step - loss: 0.5276 - accuracy: 0.7382\n",
            "Epoch 8/16\n",
            "2210/2210 [==============================] - 3s 1ms/step - loss: 0.5268 - accuracy: 0.7391\n",
            "Epoch 9/16\n",
            "2210/2210 [==============================] - 3s 1ms/step - loss: 0.5260 - accuracy: 0.7398\n",
            "Epoch 10/16\n",
            "2210/2210 [==============================] - 3s 2ms/step - loss: 0.5252 - accuracy: 0.7401\n",
            "Epoch 11/16\n",
            "2210/2210 [==============================] - 4s 2ms/step - loss: 0.5245 - accuracy: 0.7406\n",
            "Epoch 12/16\n",
            "2210/2210 [==============================] - 3s 2ms/step - loss: 0.5239 - accuracy: 0.7403\n",
            "Epoch 13/16\n",
            "2210/2210 [==============================] - 4s 2ms/step - loss: 0.5233 - accuracy: 0.7409\n",
            "Epoch 14/16\n",
            "2210/2210 [==============================] - 4s 2ms/step - loss: 0.5227 - accuracy: 0.7414\n",
            "Epoch 15/16\n",
            "2210/2210 [==============================] - 3s 1ms/step - loss: 0.5222 - accuracy: 0.7418\n",
            "Epoch 16/16\n",
            "2210/2210 [==============================] - 3s 1ms/step - loss: 0.5216 - accuracy: 0.7418\n"
          ]
        },
        {
          "output_type": "execute_result",
          "data": {
            "text/plain": [
              "<keras.callbacks.History at 0x7f3e18f6c160>"
            ]
          },
          "metadata": {},
          "execution_count": 125
        }
      ]
    },
    {
      "cell_type": "code",
      "source": [
        "overfit_predict = (model.predict(X_Overfit) > 0.5).astype(int)\n",
        "overfit_predict\n",
        "\n",
        "\n",
        "#hello = sum(overfit_predict) / 70692\n",
        "\n",
        "#print(hello)\n",
        "accuracy_score(Y_Overfit, overfit_predict)\n",
        "\n",
        "print('Final accuracy was found to be: ', accuracy_score(Y_Overfit, overfit_predict))"
      ],
      "metadata": {
        "colab": {
          "base_uri": "https://localhost:8080/"
        },
        "id": "gQUQEOy0_Rso",
        "outputId": "af62f12d-a2d5-4538-faf7-0601ad55209e"
      },
      "execution_count": 126,
      "outputs": [
        {
          "output_type": "stream",
          "name": "stdout",
          "text": [
            "2210/2210 [==============================] - 3s 2ms/step\n",
            "Final accuracy was found to be:  0.7412578509590901\n"
          ]
        }
      ]
    },
    {
      "cell_type": "code",
      "source": [
        "# The function only works for models with more than one layer.\n",
        "def test_model(neuron_arr, input_length, X, Y, num_epochs, num_batch, is_verbose):\n",
        "  my_model = Sequential()\n",
        "  my_model.add(Dense(neuron_arr[0], input_dim = input_length, activation='relu'))\n",
        "  #\n",
        "  for i in range(1, len(neuron_arr)):\n",
        "    my_model.add(Dense(neuron_arr[i], activation='sigmoid'))\n",
        "  #\n",
        "  my_model.add(Dense(1, activation='sigmoid'))\n",
        "  my_model.compile(loss='binary_crossentropy', optimizer='rmsprop', metrics=['accuracy'])\n",
        "  my_model.fit(x=X, y=Y, epochs=num_epochs, batch_size=num_batch, verbose=is_verbose, shuffle=True)\n",
        "  overfit_predict = (my_model.predict(X) > 0.5).astype(int)\n",
        "  print('Final accuracy was found to be: ', accuracy_score(Y, overfit_predict))"
      ],
      "metadata": {
        "id": "dy311zXZrQds"
      },
      "execution_count": 127,
      "outputs": []
    },
    {
      "cell_type": "code",
      "source": [
        "test_model([2, 1], len(X_Overfit[0, :]), X_Overfit, Y_Overfit, 16, 32, 1)"
      ],
      "metadata": {
        "colab": {
          "base_uri": "https://localhost:8080/"
        },
        "id": "ZiwbB088telJ",
        "outputId": "f877f939-5459-4038-e741-9b13fee9bda3"
      },
      "execution_count": 139,
      "outputs": [
        {
          "output_type": "stream",
          "name": "stdout",
          "text": [
            "Epoch 1/16\n",
            "2210/2210 [==============================] - 4s 2ms/step - loss: 0.6163 - accuracy: 0.6754\n",
            "Epoch 2/16\n",
            "2210/2210 [==============================] - 3s 2ms/step - loss: 0.5571 - accuracy: 0.7261\n",
            "Epoch 3/16\n",
            "2210/2210 [==============================] - 4s 2ms/step - loss: 0.5417 - accuracy: 0.7334\n",
            "Epoch 4/16\n",
            "2210/2210 [==============================] - 3s 2ms/step - loss: 0.5333 - accuracy: 0.7369\n",
            "Epoch 5/16\n",
            "2210/2210 [==============================] - 3s 2ms/step - loss: 0.5283 - accuracy: 0.7392\n",
            "Epoch 6/16\n",
            "2210/2210 [==============================] - 4s 2ms/step - loss: 0.5247 - accuracy: 0.7408\n",
            "Epoch 7/16\n",
            "2210/2210 [==============================] - 4s 2ms/step - loss: 0.5217 - accuracy: 0.7421\n",
            "Epoch 8/16\n",
            "2210/2210 [==============================] - 3s 2ms/step - loss: 0.5191 - accuracy: 0.7437\n",
            "Epoch 9/16\n",
            "2210/2210 [==============================] - 3s 2ms/step - loss: 0.5170 - accuracy: 0.7448\n",
            "Epoch 10/16\n",
            "2210/2210 [==============================] - 4s 2ms/step - loss: 0.5150 - accuracy: 0.7451\n",
            "Epoch 11/16\n",
            "2210/2210 [==============================] - 3s 2ms/step - loss: 0.5137 - accuracy: 0.7478\n",
            "Epoch 12/16\n",
            "2210/2210 [==============================] - 3s 2ms/step - loss: 0.5123 - accuracy: 0.7482\n",
            "Epoch 13/16\n",
            "2210/2210 [==============================] - 4s 2ms/step - loss: 0.5117 - accuracy: 0.7481\n",
            "Epoch 14/16\n",
            "2210/2210 [==============================] - 4s 2ms/step - loss: 0.5111 - accuracy: 0.7479\n",
            "Epoch 15/16\n",
            "2210/2210 [==============================] - 3s 2ms/step - loss: 0.5104 - accuracy: 0.7479\n",
            "Epoch 16/16\n",
            "2210/2210 [==============================] - 3s 2ms/step - loss: 0.5101 - accuracy: 0.7480\n",
            "2210/2210 [==============================] - 4s 2ms/step\n",
            "Final accuracy was found to be:  0.7503253550613931\n"
          ]
        }
      ]
    },
    {
      "cell_type": "code",
      "source": [
        "test_model([2, 1], len(X_Overfit[0, :]), X_Overfit, Y_Overfit, 512, 32, 0)"
      ],
      "metadata": {
        "colab": {
          "base_uri": "https://localhost:8080/"
        },
        "id": "dkJ1z-SvyaFX",
        "outputId": "ea9fc403-65ab-462e-9166-9060a4743908"
      },
      "execution_count": 149,
      "outputs": [
        {
          "output_type": "stream",
          "name": "stdout",
          "text": [
            "2210/2210 [==============================] - 3s 1ms/step\n",
            "Final accuracy was found to be:  0.7510185028008827\n"
          ]
        }
      ]
    },
    {
      "cell_type": "code",
      "source": [
        "test_model([4, 2, 1], len(X_Overfit[0, :]), X_Overfit, Y_Overfit, 16, 32, 1)"
      ],
      "metadata": {
        "colab": {
          "base_uri": "https://localhost:8080/"
        },
        "id": "U62zjmlmtIcV",
        "outputId": "94a31ae1-f28f-47f6-d97c-52f8eb1eb891"
      },
      "execution_count": 140,
      "outputs": [
        {
          "output_type": "stream",
          "name": "stdout",
          "text": [
            "Epoch 1/16\n",
            "2210/2210 [==============================] - 4s 2ms/step - loss: 0.6507 - accuracy: 0.6577\n",
            "Epoch 2/16\n",
            "2210/2210 [==============================] - 5s 2ms/step - loss: 0.5730 - accuracy: 0.7243\n",
            "Epoch 3/16\n",
            "2210/2210 [==============================] - 4s 2ms/step - loss: 0.5482 - accuracy: 0.7315\n",
            "Epoch 4/16\n",
            "2210/2210 [==============================] - 4s 2ms/step - loss: 0.5368 - accuracy: 0.7370\n",
            "Epoch 5/16\n",
            "2210/2210 [==============================] - 4s 2ms/step - loss: 0.5303 - accuracy: 0.7384\n",
            "Epoch 6/16\n",
            "2210/2210 [==============================] - 4s 2ms/step - loss: 0.5254 - accuracy: 0.7406\n",
            "Epoch 7/16\n",
            "2210/2210 [==============================] - 4s 2ms/step - loss: 0.5218 - accuracy: 0.7434\n",
            "Epoch 8/16\n",
            "2210/2210 [==============================] - 4s 2ms/step - loss: 0.5185 - accuracy: 0.7455\n",
            "Epoch 9/16\n",
            "2210/2210 [==============================] - 5s 2ms/step - loss: 0.5161 - accuracy: 0.7460\n",
            "Epoch 10/16\n",
            "2210/2210 [==============================] - 4s 2ms/step - loss: 0.5143 - accuracy: 0.7470\n",
            "Epoch 11/16\n",
            "2210/2210 [==============================] - 4s 2ms/step - loss: 0.5129 - accuracy: 0.7475\n",
            "Epoch 12/16\n",
            "2210/2210 [==============================] - 5s 2ms/step - loss: 0.5120 - accuracy: 0.7485\n",
            "Epoch 13/16\n",
            "2210/2210 [==============================] - 4s 2ms/step - loss: 0.5116 - accuracy: 0.7484\n",
            "Epoch 14/16\n",
            "2210/2210 [==============================] - 4s 2ms/step - loss: 0.5111 - accuracy: 0.7489\n",
            "Epoch 15/16\n",
            "2210/2210 [==============================] - 4s 2ms/step - loss: 0.5110 - accuracy: 0.7488\n",
            "Epoch 16/16\n",
            "2210/2210 [==============================] - 4s 2ms/step - loss: 0.5107 - accuracy: 0.7495\n",
            "2210/2210 [==============================] - 3s 1ms/step\n",
            "Final accuracy was found to be:  0.7497312284275448\n"
          ]
        }
      ]
    },
    {
      "cell_type": "code",
      "source": [
        "test_model([4, 2, 1], len(X_Overfit[0, :]), X_Overfit, Y_Overfit, 512, 32, 0)"
      ],
      "metadata": {
        "colab": {
          "base_uri": "https://localhost:8080/"
        },
        "id": "8KVYDcqcA4xz",
        "outputId": "badb7563-20a8-43cc-e4b2-eafb0e655cc9"
      },
      "execution_count": 152,
      "outputs": [
        {
          "output_type": "stream",
          "name": "stdout",
          "text": [
            "2210/2210 [==============================] - 3s 1ms/step\n",
            "Final accuracy was found to be:  0.7525462570022068\n"
          ]
        }
      ]
    },
    {
      "cell_type": "code",
      "source": [
        "test_model([8, 4, 2, 1], len(X_Overfit[0, :]), X_Overfit, Y_Overfit, 16, 32, 1)"
      ],
      "metadata": {
        "colab": {
          "base_uri": "https://localhost:8080/"
        },
        "id": "uTLhs_oIs7Rd",
        "outputId": "18f6a9cc-fc5b-4ab1-a041-87d69c346115"
      },
      "execution_count": 141,
      "outputs": [
        {
          "output_type": "stream",
          "name": "stdout",
          "text": [
            "Epoch 1/16\n",
            "2210/2210 [==============================] - 4s 2ms/step - loss: 0.6699 - accuracy: 0.6654\n",
            "Epoch 2/16\n",
            "2210/2210 [==============================] - 4s 2ms/step - loss: 0.5893 - accuracy: 0.7243\n",
            "Epoch 3/16\n",
            "2210/2210 [==============================] - 4s 2ms/step - loss: 0.5565 - accuracy: 0.7306\n",
            "Epoch 4/16\n",
            "2210/2210 [==============================] - 4s 2ms/step - loss: 0.5387 - accuracy: 0.7382\n",
            "Epoch 5/16\n",
            "2210/2210 [==============================] - 4s 2ms/step - loss: 0.5279 - accuracy: 0.7411\n",
            "Epoch 6/16\n",
            "2210/2210 [==============================] - 5s 2ms/step - loss: 0.5216 - accuracy: 0.7443\n",
            "Epoch 7/16\n",
            "2210/2210 [==============================] - 4s 2ms/step - loss: 0.5172 - accuracy: 0.7464\n",
            "Epoch 8/16\n",
            "2210/2210 [==============================] - 4s 2ms/step - loss: 0.5147 - accuracy: 0.7472\n",
            "Epoch 9/16\n",
            "2210/2210 [==============================] - 4s 2ms/step - loss: 0.5126 - accuracy: 0.7492\n",
            "Epoch 10/16\n",
            "2210/2210 [==============================] - 4s 2ms/step - loss: 0.5116 - accuracy: 0.7493\n",
            "Epoch 11/16\n",
            "2210/2210 [==============================] - 4s 2ms/step - loss: 0.5110 - accuracy: 0.7498\n",
            "Epoch 12/16\n",
            "2210/2210 [==============================] - 5s 2ms/step - loss: 0.5102 - accuracy: 0.7489\n",
            "Epoch 13/16\n",
            "2210/2210 [==============================] - 4s 2ms/step - loss: 0.5096 - accuracy: 0.7502\n",
            "Epoch 14/16\n",
            "2210/2210 [==============================] - 4s 2ms/step - loss: 0.5093 - accuracy: 0.7500\n",
            "Epoch 15/16\n",
            "2210/2210 [==============================] - 5s 2ms/step - loss: 0.5088 - accuracy: 0.7501\n",
            "Epoch 16/16\n",
            "2210/2210 [==============================] - 4s 2ms/step - loss: 0.5084 - accuracy: 0.7509\n",
            "2210/2210 [==============================] - 4s 2ms/step\n",
            "Final accuracy was found to be:  0.7491795394104\n"
          ]
        }
      ]
    },
    {
      "cell_type": "code",
      "source": [
        "test_model([8, 4, 2, 1], len(X_Overfit[0, :]), X_Overfit, Y_Overfit, 512, 32, 0)"
      ],
      "metadata": {
        "colab": {
          "base_uri": "https://localhost:8080/"
        },
        "id": "otEYJdQ3Hhes",
        "outputId": "0234f967-9532-4b12-bd39-4b387f6bb9f0"
      },
      "execution_count": 154,
      "outputs": [
        {
          "output_type": "stream",
          "name": "stdout",
          "text": [
            "2210/2210 [==============================] - 3s 1ms/step\n",
            "Final accuracy was found to be:  0.7538476772477791\n"
          ]
        }
      ]
    },
    {
      "cell_type": "code",
      "source": [
        "test_model([16, 8, 4, 2, 1], len(X_Overfit[0, :]), X_Overfit, Y_Overfit, 16, 32, 1)"
      ],
      "metadata": {
        "colab": {
          "base_uri": "https://localhost:8080/"
        },
        "id": "seo-yK93wB6L",
        "outputId": "21e4b981-78fe-4c7a-dff2-ce97a43a5424"
      },
      "execution_count": 142,
      "outputs": [
        {
          "output_type": "stream",
          "name": "stdout",
          "text": [
            "Epoch 1/16\n",
            "2210/2210 [==============================] - 5s 2ms/step - loss: 0.6838 - accuracy: 0.6015\n",
            "Epoch 2/16\n",
            "2210/2210 [==============================] - 5s 2ms/step - loss: 0.5993 - accuracy: 0.7258\n",
            "Epoch 3/16\n",
            "2210/2210 [==============================] - 4s 2ms/step - loss: 0.5649 - accuracy: 0.7336\n",
            "Epoch 4/16\n",
            "2210/2210 [==============================] - 4s 2ms/step - loss: 0.5468 - accuracy: 0.7389\n",
            "Epoch 5/16\n",
            "2210/2210 [==============================] - 5s 2ms/step - loss: 0.5351 - accuracy: 0.7431\n",
            "Epoch 6/16\n",
            "2210/2210 [==============================] - 4s 2ms/step - loss: 0.5268 - accuracy: 0.7461\n",
            "Epoch 7/16\n",
            "2210/2210 [==============================] - 4s 2ms/step - loss: 0.5218 - accuracy: 0.7471\n",
            "Epoch 8/16\n",
            "2210/2210 [==============================] - 5s 2ms/step - loss: 0.5187 - accuracy: 0.7482\n",
            "Epoch 9/16\n",
            "2210/2210 [==============================] - 4s 2ms/step - loss: 0.5164 - accuracy: 0.7498\n",
            "Epoch 10/16\n",
            "2210/2210 [==============================] - 4s 2ms/step - loss: 0.5151 - accuracy: 0.7493\n",
            "Epoch 11/16\n",
            "2210/2210 [==============================] - 5s 2ms/step - loss: 0.5140 - accuracy: 0.7499\n",
            "Epoch 12/16\n",
            "2210/2210 [==============================] - 4s 2ms/step - loss: 0.5130 - accuracy: 0.7501\n",
            "Epoch 13/16\n",
            "2210/2210 [==============================] - 4s 2ms/step - loss: 0.5122 - accuracy: 0.7506\n",
            "Epoch 14/16\n",
            "2210/2210 [==============================] - 5s 2ms/step - loss: 0.5113 - accuracy: 0.7499\n",
            "Epoch 15/16\n",
            "2210/2210 [==============================] - 4s 2ms/step - loss: 0.5110 - accuracy: 0.7504\n",
            "Epoch 16/16\n",
            "2210/2210 [==============================] - 4s 2ms/step - loss: 0.5102 - accuracy: 0.7509\n",
            "2210/2210 [==============================] - 4s 2ms/step\n",
            "Final accuracy was found to be:  0.746831324619476\n"
          ]
        }
      ]
    },
    {
      "cell_type": "code",
      "source": [
        "test_model([128, 64, 32, 16, 8, 4, 2, 1], len(X_Overfit[0, :]), X_Overfit, Y_Overfit, 16, 32, 1)"
      ],
      "metadata": {
        "colab": {
          "base_uri": "https://localhost:8080/"
        },
        "id": "G3jCTjjPvSji",
        "outputId": "64be629f-0531-4fd0-e5fe-569969a66c91"
      },
      "execution_count": 143,
      "outputs": [
        {
          "output_type": "stream",
          "name": "stdout",
          "text": [
            "Epoch 1/16\n",
            "2210/2210 [==============================] - 6s 2ms/step - loss: 0.6935 - accuracy: 0.5006\n",
            "Epoch 2/16\n",
            "2210/2210 [==============================] - 6s 3ms/step - loss: 0.6932 - accuracy: 0.4975\n",
            "Epoch 3/16\n",
            "2210/2210 [==============================] - 5s 2ms/step - loss: 0.6932 - accuracy: 0.4958\n",
            "Epoch 4/16\n",
            "2210/2210 [==============================] - 6s 3ms/step - loss: 0.6932 - accuracy: 0.4965\n",
            "Epoch 5/16\n",
            "2210/2210 [==============================] - 5s 2ms/step - loss: 0.6932 - accuracy: 0.4980\n",
            "Epoch 6/16\n",
            "2210/2210 [==============================] - 5s 2ms/step - loss: 0.6932 - accuracy: 0.4989\n",
            "Epoch 7/16\n",
            "2210/2210 [==============================] - 6s 3ms/step - loss: 0.6932 - accuracy: 0.4988\n",
            "Epoch 8/16\n",
            "2210/2210 [==============================] - 5s 2ms/step - loss: 0.6932 - accuracy: 0.4993\n",
            "Epoch 9/16\n",
            "2210/2210 [==============================] - 6s 3ms/step - loss: 0.6932 - accuracy: 0.4997\n",
            "Epoch 10/16\n",
            "2210/2210 [==============================] - 5s 2ms/step - loss: 0.6932 - accuracy: 0.4979\n",
            "Epoch 11/16\n",
            "2210/2210 [==============================] - 5s 2ms/step - loss: 0.6932 - accuracy: 0.4984\n",
            "Epoch 12/16\n",
            "2210/2210 [==============================] - 6s 3ms/step - loss: 0.6932 - accuracy: 0.4994\n",
            "Epoch 13/16\n",
            "2210/2210 [==============================] - 5s 2ms/step - loss: 0.6932 - accuracy: 0.5014\n",
            "Epoch 14/16\n",
            "2210/2210 [==============================] - 7s 3ms/step - loss: 0.6932 - accuracy: 0.4961\n",
            "Epoch 15/16\n",
            "2210/2210 [==============================] - 5s 2ms/step - loss: 0.6932 - accuracy: 0.4977\n",
            "Epoch 16/16\n",
            "2210/2210 [==============================] - 5s 2ms/step - loss: 0.6932 - accuracy: 0.4980\n",
            "2210/2210 [==============================] - 4s 2ms/step\n",
            "Final accuracy was found to be:  0.5\n"
          ]
        }
      ]
    },
    {
      "cell_type": "code",
      "source": [
        "test_model([4, 1], len(X_Overfit[0, :]), X_Overfit, Y_Overfit, 16, 32, 1)"
      ],
      "metadata": {
        "colab": {
          "base_uri": "https://localhost:8080/"
        },
        "id": "8OiN8ql9xO9L",
        "outputId": "42893933-9668-4053-93e4-2f9aba6426e1"
      },
      "execution_count": 144,
      "outputs": [
        {
          "output_type": "stream",
          "name": "stdout",
          "text": [
            "Epoch 1/16\n",
            "2210/2210 [==============================] - 4s 2ms/step - loss: 0.6270 - accuracy: 0.6721\n",
            "Epoch 2/16\n",
            "2210/2210 [==============================] - 5s 2ms/step - loss: 0.5637 - accuracy: 0.7258\n",
            "Epoch 3/16\n",
            "2210/2210 [==============================] - 4s 2ms/step - loss: 0.5498 - accuracy: 0.7320\n",
            "Epoch 4/16\n",
            "2210/2210 [==============================] - 4s 2ms/step - loss: 0.5412 - accuracy: 0.7354\n",
            "Epoch 5/16\n",
            "2210/2210 [==============================] - 5s 2ms/step - loss: 0.5353 - accuracy: 0.7380\n",
            "Epoch 6/16\n",
            "2210/2210 [==============================] - 4s 2ms/step - loss: 0.5310 - accuracy: 0.7394\n",
            "Epoch 7/16\n",
            "2210/2210 [==============================] - 4s 2ms/step - loss: 0.5274 - accuracy: 0.7412\n",
            "Epoch 8/16\n",
            "2210/2210 [==============================] - 4s 2ms/step - loss: 0.5243 - accuracy: 0.7429\n",
            "Epoch 9/16\n",
            "2210/2210 [==============================] - 4s 2ms/step - loss: 0.5215 - accuracy: 0.7435\n",
            "Epoch 10/16\n",
            "2210/2210 [==============================] - 4s 2ms/step - loss: 0.5192 - accuracy: 0.7469\n",
            "Epoch 11/16\n",
            "2210/2210 [==============================] - 4s 2ms/step - loss: 0.5170 - accuracy: 0.7461\n",
            "Epoch 12/16\n",
            "2210/2210 [==============================] - 5s 2ms/step - loss: 0.5152 - accuracy: 0.7478\n",
            "Epoch 13/16\n",
            "2210/2210 [==============================] - 4s 2ms/step - loss: 0.5139 - accuracy: 0.7484\n",
            "Epoch 14/16\n",
            "2210/2210 [==============================] - 4s 2ms/step - loss: 0.5127 - accuracy: 0.7487\n",
            "Epoch 15/16\n",
            "2210/2210 [==============================] - 5s 2ms/step - loss: 0.5120 - accuracy: 0.7499\n",
            "Epoch 16/16\n",
            "2210/2210 [==============================] - 4s 2ms/step - loss: 0.5112 - accuracy: 0.7500\n",
            "2210/2210 [==============================] - 3s 1ms/step\n",
            "Final accuracy was found to be:  0.7468454704917106\n"
          ]
        }
      ]
    },
    {
      "cell_type": "code",
      "source": [
        "test_model([4, 1], len(X_Overfit[0, :]), X_Overfit, Y_Overfit, 512, 32, 0)"
      ],
      "metadata": {
        "colab": {
          "base_uri": "https://localhost:8080/"
        },
        "id": "fQ_CG66GOPr_",
        "outputId": "f9d4a5fa-c1c4-4f03-f1c5-05cf6ec4d110"
      },
      "execution_count": 155,
      "outputs": [
        {
          "output_type": "stream",
          "name": "stdout",
          "text": [
            "2210/2210 [==============================] - 3s 1ms/step\n",
            "Final accuracy was found to be:  0.7527867368301929\n"
          ]
        }
      ]
    },
    {
      "cell_type": "code",
      "source": [
        "test_model([8, 1], len(X_Overfit[0, :]), X_Overfit, Y_Overfit, 16, 32, 1)"
      ],
      "metadata": {
        "colab": {
          "base_uri": "https://localhost:8080/"
        },
        "id": "_E8zBrGfx9S5",
        "outputId": "aa7149cf-316a-4360-929c-0a62d2708e83"
      },
      "execution_count": 146,
      "outputs": [
        {
          "output_type": "stream",
          "name": "stdout",
          "text": [
            "Epoch 1/16\n",
            "2210/2210 [==============================] - 5s 2ms/step - loss: 0.6116 - accuracy: 0.6978\n",
            "Epoch 2/16\n",
            "2210/2210 [==============================] - 4s 2ms/step - loss: 0.5612 - accuracy: 0.7320\n",
            "Epoch 3/16\n",
            "2210/2210 [==============================] - 3s 2ms/step - loss: 0.5454 - accuracy: 0.7362\n",
            "Epoch 4/16\n",
            "2210/2210 [==============================] - 3s 2ms/step - loss: 0.5361 - accuracy: 0.7401\n",
            "Epoch 5/16\n",
            "2210/2210 [==============================] - 4s 2ms/step - loss: 0.5298 - accuracy: 0.7410\n",
            "Epoch 6/16\n",
            "2210/2210 [==============================] - 4s 2ms/step - loss: 0.5248 - accuracy: 0.7438\n",
            "Epoch 7/16\n",
            "2210/2210 [==============================] - 4s 2ms/step - loss: 0.5210 - accuracy: 0.7456\n",
            "Epoch 8/16\n",
            "2210/2210 [==============================] - 4s 2ms/step - loss: 0.5179 - accuracy: 0.7462\n",
            "Epoch 9/16\n",
            "2210/2210 [==============================] - 4s 2ms/step - loss: 0.5157 - accuracy: 0.7484\n",
            "Epoch 10/16\n",
            "2210/2210 [==============================] - 3s 2ms/step - loss: 0.5140 - accuracy: 0.7489\n",
            "Epoch 11/16\n",
            "2210/2210 [==============================] - 4s 2ms/step - loss: 0.5126 - accuracy: 0.7497\n",
            "Epoch 12/16\n",
            "2210/2210 [==============================] - 4s 2ms/step - loss: 0.5114 - accuracy: 0.7500\n",
            "Epoch 13/16\n",
            "2210/2210 [==============================] - 3s 2ms/step - loss: 0.5107 - accuracy: 0.7501\n",
            "Epoch 14/16\n",
            "2210/2210 [==============================] - 4s 2ms/step - loss: 0.5101 - accuracy: 0.7499\n",
            "Epoch 15/16\n",
            "2210/2210 [==============================] - 4s 2ms/step - loss: 0.5094 - accuracy: 0.7506\n",
            "Epoch 16/16\n",
            "2210/2210 [==============================] - 4s 2ms/step - loss: 0.5093 - accuracy: 0.7502\n",
            "2210/2210 [==============================] - 3s 1ms/step\n",
            "Final accuracy was found to be:  0.751174107395462\n"
          ]
        }
      ]
    },
    {
      "cell_type": "code",
      "source": [
        "test_model([8, 1], len(X_Overfit[0, :]), X_Overfit, Y_Overfit, 512, 32, 0)"
      ],
      "metadata": {
        "colab": {
          "base_uri": "https://localhost:8080/"
        },
        "id": "Cd51ulWv6FJQ",
        "outputId": "df2b671e-6665-4eb8-e4da-abb6a210fc8c"
      },
      "execution_count": 151,
      "outputs": [
        {
          "output_type": "stream",
          "name": "stdout",
          "text": [
            "2210/2210 [==============================] - 3s 1ms/step\n",
            "Final accuracy was found to be:  0.7535930515475584\n"
          ]
        }
      ]
    }
  ]
}